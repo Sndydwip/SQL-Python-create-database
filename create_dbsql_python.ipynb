{
 "cells": [
  {
   "cell_type": "code",
   "execution_count": 1,
   "metadata": {},
   "outputs": [],
   "source": [
    "import os\n",
    "import sqlite3"
   ]
  },
  {
   "cell_type": "markdown",
   "metadata": {},
   "source": [
    "## **create database**"
   ]
  },
  {
   "cell_type": "code",
   "execution_count": 2,
   "metadata": {},
   "outputs": [
    {
     "name": "stdout",
     "output_type": "stream",
     "text": [
      "Database doesnot exists, create a new database.\n"
     ]
    }
   ],
   "source": [
    "my_db = './test.db'\n",
    "db_exists = os.path.exists(my_db)\n",
    "conn = sqlite3.connect(my_db)\n",
    "if db_exists:\n",
    "    print('Database exist...')\n",
    "else:\n",
    "    print('Database doesnot exists, create a new database.')\n",
    "    \n",
    "conn.close()"
   ]
  },
  {
   "cell_type": "markdown",
   "metadata": {},
   "source": [
    "## **create table**"
   ]
  },
  {
   "cell_type": "code",
   "execution_count": 7,
   "metadata": {},
   "outputs": [],
   "source": [
    "query = '''CREATE TABLE person (\n",
    "    id        INTEGER PRIMARY KEY,\n",
    "    firstname TEXT,\n",
    "    lastname  TEXT,\n",
    "    age       INTEGER\n",
    ")'''"
   ]
  },
  {
   "cell_type": "code",
   "execution_count": 8,
   "metadata": {},
   "outputs": [
    {
     "name": "stdout",
     "output_type": "stream",
     "text": [
      "Person table created successfully ..\n"
     ]
    }
   ],
   "source": [
    "my_db ='./test.db'\n",
    "db_exist = os.path.exists(my_db)\n",
    "conn = sqlite3.connect(my_db)\n",
    "if db_exists:\n",
    "    cur = conn.cursor()\n",
    "    cur.execute(query)\n",
    "    conn.commit()\n",
    "    print(\"Person table created successfully ..\")\n",
    "else:\n",
    "    print(\"Database doesnot exists, create a new database.\")\n",
    "conn.close()"
   ]
  },
  {
   "cell_type": "markdown",
   "metadata": {},
   "source": [
    "## **insert data in table**"
   ]
  },
  {
   "cell_type": "code",
   "execution_count": 9,
   "metadata": {},
   "outputs": [],
   "source": [
    "person_list = [\n",
    "    (1, \"Martha\", \"Lucy\", 45),\n",
    "    (2, \"John\", \"Bronze\", 70),\n",
    "    (3, \"Noah\", \"Charlotte\", 20),\n",
    "    (4, \"Henry\", \"Sophia\", 55),\n",
    "    (5, \"John\", \"Sophia\", 45)\n",
    "]"
   ]
  },
  {
   "cell_type": "code",
   "execution_count": 10,
   "metadata": {},
   "outputs": [
    {
     "name": "stdout",
     "output_type": "stream",
     "text": [
      "Record inserted succesfully ...\n"
     ]
    }
   ],
   "source": [
    "my_db = './test.db'\n",
    "db_exists = os.path.exists(my_db)\n",
    "conn = sqlite3.connect(my_db)\n",
    "if db_exists:\n",
    "    cur = conn.cursor()\n",
    "    cur.executemany(\"INSERT INTO person VALUES (?, ?, ?, ?)\", person_list)\n",
    "    conn.commit()\n",
    "    print(\"Record inserted succesfully ...\")\n",
    "else:\n",
    "    print(\"Database doesnot exists, create a new database.\")\n",
    "conn.close()"
   ]
  },
  {
   "cell_type": "markdown",
   "metadata": {},
   "source": [
    "## **View records by order**"
   ]
  },
  {
   "cell_type": "code",
   "execution_count": 12,
   "metadata": {},
   "outputs": [
    {
     "name": "stdout",
     "output_type": "stream",
     "text": [
      "Fetching All records from person table and order by firstname\n",
      "\n",
      " [(4, 'Henry', 'Sophia', 55), (2, 'John', 'Bronze', 70), (5, 'John', 'Sophia', 45), (1, 'Martha', 'Lucy', 45), (3, 'Noah', 'Charlotte', 20)]\n"
     ]
    }
   ],
   "source": [
    "my_db = './test.db'\n",
    "db_exists = os.path.exists(my_db)\n",
    "conn = sqlite3.connect(my_db)\n",
    "if db_exists:\n",
    "    cur = conn.cursor()\n",
    "    cur.execute(\"SELECT * FROM person ORDER BY firstname\")\n",
    "    records = cur.fetchall()\n",
    "    print(\"Fetching All records from person table and order by firstname\")\n",
    "    print(\"\\n\", records)\n",
    "else:\n",
    "    print(\"Database doesnot exists, create a new database\")\n",
    "    \n",
    "conn.close()"
   ]
  },
  {
   "cell_type": "markdown",
   "metadata": {},
   "source": [
    "## **Fetch only one record**"
   ]
  },
  {
   "cell_type": "code",
   "execution_count": 14,
   "metadata": {},
   "outputs": [
    {
     "name": "stdout",
     "output_type": "stream",
     "text": [
      "Fetching only one record from person table\n",
      "\n",
      " (1, 'Martha', 'Lucy', 45)\n"
     ]
    }
   ],
   "source": [
    "my_db ='./test.db'\n",
    "db_exists = os.path.exists(my_db)\n",
    "conn = sqlite3.connect(my_db)\n",
    "if db_exists:\n",
    "    cur = conn.cursor()\n",
    "    cur.execute(\"SELECT * FROM person\")\n",
    "    record = cur.fetchone()\n",
    "    print(\"Fetching only one record from person table\")\n",
    "    print(\"\\n\", record)\n",
    "else:\n",
    "    print(\"Database doesnot exists, create a new database\")\n",
    "    \n",
    "conn.close()"
   ]
  },
  {
   "cell_type": "markdown",
   "metadata": {},
   "source": [
    "## **Retrieve records by named style**"
   ]
  },
  {
   "cell_type": "code",
   "execution_count": 16,
   "metadata": {},
   "outputs": [
    {
     "name": "stdout",
     "output_type": "stream",
     "text": [
      "Fetching all records from person table, whose firstname is John and order by age\n",
      "\n",
      " [(5, 'John', 'Sophia', 45), (2, 'John', 'Bronze', 70)]\n"
     ]
    }
   ],
   "source": [
    "my_db ='./test.db'\n",
    "db_exists = os.path.exists(my_db)\n",
    "conn = sqlite3.connect(my_db)\n",
    "if db_exists:\n",
    "    cur = conn.cursor()\n",
    "    cur.execute(\"SELECT * FROM person WHERE firstname=:firstname ORDER BY age\", {\"firstname\":\"John\"})\n",
    "    records = cur.fetchall()\n",
    "    print(\"Fetching all records from person table, whose firstname is John and order by age\")\n",
    "    print(\"\\n\", records)\n",
    "else:\n",
    "    print(\"Database doesnot exists, create a new database\")\n",
    "    \n",
    "conn.close()"
   ]
  },
  {
   "cell_type": "markdown",
   "metadata": {},
   "source": [
    "## **Retrieve records by positional parameters**"
   ]
  },
  {
   "cell_type": "code",
   "execution_count": 18,
   "metadata": {},
   "outputs": [
    {
     "name": "stdout",
     "output_type": "stream",
     "text": [
      "Fetching all records from person table, whose firstname is John and order by age\n",
      "\n",
      " [(5, 'John', 'Sophia', 45), (2, 'John', 'Bronze', 70)]\n"
     ]
    }
   ],
   "source": [
    "my_db ='./test.db'\n",
    "db_exists = os.path.exists(my_db)\n",
    "conn = sqlite3.connect(my_db)\n",
    "if db_exists:\n",
    "    cur = conn.cursor()\n",
    "    cur.execute(\"SELECT * FROM person WHERE firstname = ? ORDER BY age\", (\"John\",))\n",
    "    records = cur.fetchall()\n",
    "    print(\"Fetching all records from person table, whose firstname is John and order by age\")\n",
    "    print(\"\\n\", records)\n",
    "else:\n",
    "    print(\"Database doesnot exists, create a new database\")\n",
    "    \n",
    "conn.close()"
   ]
  },
  {
   "cell_type": "markdown",
   "metadata": {},
   "source": [
    "## **Retrieve records by like**"
   ]
  },
  {
   "cell_type": "code",
   "execution_count": 19,
   "metadata": {},
   "outputs": [
    {
     "name": "stdout",
     "output_type": "stream",
     "text": [
      "Fetching all records from person table, whose firstname starts with J\n",
      "\n",
      " [(2, 'John', 'Bronze', 70), (5, 'John', 'Sophia', 45)]\n"
     ]
    }
   ],
   "source": [
    "my_db ='./test.db'\n",
    "db_exists = os.path.exists(my_db)\n",
    "conn = sqlite3.connect(my_db)\n",
    "if db_exists:\n",
    "    cur = conn.cursor()\n",
    "    cur.execute(\"SELECT * FROM person WHERE firstname like '%J%'\")\n",
    "    records = cur.fetchall()\n",
    "    print(\"Fetching all records from person table, whose firstname starts with J\")\n",
    "    print(\"\\n\", records)\n",
    "else:\n",
    "    print(\"Database doesnot exists, create a new database\")\n",
    "    \n",
    "conn.close()"
   ]
  },
  {
   "cell_type": "markdown",
   "metadata": {},
   "source": [
    "## **Update record**"
   ]
  },
  {
   "cell_type": "code",
   "execution_count": 20,
   "metadata": {},
   "outputs": [
    {
     "name": "stdout",
     "output_type": "stream",
     "text": [
      "Fetching all records from person table after update\n",
      "\n",
      " [(1, 'Maria', 'Lucy', 55), (2, 'John', 'Bronze', 70), (3, 'Noah', 'Charlotte', 20), (4, 'Henry', 'Sophia', 55), (5, 'John', 'Sophia', 45)]\n"
     ]
    }
   ],
   "source": [
    "my_db ='./test.db'\n",
    "db_exists = os.path.exists(my_db)\n",
    "conn = sqlite3.connect(my_db)\n",
    "if db_exists:\n",
    "    cur = conn.cursor()\n",
    "    cur.execute(\"UPDATE person SET firstname = ?, lastname = ?, age = ? WHERE id = ?\", ('Maria', 'Lucy', 55, 1,))\n",
    "    conn.commit()\n",
    "    \n",
    "    cur.execute(\"SELECT * FROM person\")\n",
    "    records = cur.fetchall()\n",
    "    \n",
    "    print(\"Fetching all records from person table after update\")\n",
    "    print(\"\\n\", records)\n",
    "else:\n",
    "    print(\"Database doesnot exists, create a new database\")\n",
    "    \n",
    "conn.close()"
   ]
  },
  {
   "cell_type": "code",
   "execution_count": null,
   "metadata": {},
   "outputs": [],
   "source": [
    "## **Delete Record**"
   ]
  },
  {
   "cell_type": "code",
   "execution_count": 21,
   "metadata": {},
   "outputs": [
    {
     "name": "stdout",
     "output_type": "stream",
     "text": [
      "Fetching all records from person table after delete\n",
      "\n",
      " [(1, 'Maria', 'Lucy', 55), (2, 'John', 'Bronze', 70), (3, 'Noah', 'Charlotte', 20), (4, 'Henry', 'Sophia', 55)]\n"
     ]
    }
   ],
   "source": [
    "my_db ='./test.db'\n",
    "db_exists = os.path.exists(my_db)\n",
    "conn = sqlite3.connect(my_db)\n",
    "if db_exists:\n",
    "    cur = conn.cursor()\n",
    "    cur.execute(\"DELETE FROM person WHERE id = ?\",(5,))\n",
    "    conn.commit()\n",
    "    \n",
    "    cur.execute(\"SELECT * FROM person\")\n",
    "    records = cur.fetchall()\n",
    "    \n",
    "    print(\"Fetching all records from person table after delete\")\n",
    "    print(\"\\n\", records)\n",
    "else:\n",
    "    print(\"Database doesnot exists, create a new database\")\n",
    "    \n",
    "conn.close()"
   ]
  },
  {
   "cell_type": "markdown",
   "metadata": {},
   "source": [
    "## **Execute multiple SQL statement**"
   ]
  },
  {
   "cell_type": "code",
   "execution_count": 27,
   "metadata": {},
   "outputs": [],
   "source": [
    "my_db = './test.db'\n",
    "db_exists = os.path.exists(my_db)\n",
    "conn = sqlite3.connect(my_db)\n",
    "\n",
    "if db_exists:\n",
    "    cur = conn.cursor()\n",
    "    \n",
    "    cur.executescript(\"\"\"\n",
    "    CREATE TABLE book(\n",
    "        title,\n",
    "        author,\n",
    "        published\n",
    "    );\n",
    "    \n",
    "    INSERT INTO book(title, author, published)\n",
    "    values(\n",
    "        'Dirk Gently''s Hplistic Detective Agency',\n",
    "        'Douglas Adams',\n",
    "        1987\n",
    "    );\n",
    "    \n",
    "    INSERT INTO book(title, author, published)\n",
    "    values(\n",
    "        'Joe Biden: American Dreamer',\n",
    "        'Evan Osnos',\n",
    "        2021\n",
    "    );\n",
    "\n",
    "    INSERT INTO book(title, author, published)\n",
    "    values(\n",
    "        'Artificial Intelegence and the Future of Power: 5 battlegrounds',\n",
    "        'Rajiv malhotra',\n",
    "        2021\n",
    "    );\n",
    "\n",
    "    \"\"\")\n",
    "else:\n",
    "    print(\"Database doesnot exists, create a new database.\")\n",
    "    \n",
    "conn.close()"
   ]
  },
  {
   "cell_type": "code",
   "execution_count": 28,
   "metadata": {},
   "outputs": [
    {
     "name": "stdout",
     "output_type": "stream",
     "text": [
      "Fetching all records from book\n",
      "\n",
      " [(\"Dirk Gently's Hplistic Detective Agency\", 'Douglas Adams', 1987), ('Joe Biden: American Dreamer', 'Evan Osnos', 2021), ('Artificial Intelegence and the Future of Power: 5 battlegrounds', 'Rajiv malhotra', 2021)]\n"
     ]
    }
   ],
   "source": [
    "my_db = './test.db'\n",
    "db_exists = os.path.exists(my_db)\n",
    "conn = sqlite3.connect(my_db)\n",
    "if db_exists:\n",
    "    cur = conn.cursor()\n",
    "    cur.execute(\"SELECT * FROM book\")\n",
    "    records = cur.fetchall()\n",
    "    print(\"Fetching all records from book\")\n",
    "    print(\"\\n\", records)\n",
    "else:\n",
    "    print(\"Database doesnot exists, create a new database\")\n",
    "    \n",
    "conn.close()"
   ]
  },
  {
   "cell_type": "code",
   "execution_count": null,
   "metadata": {},
   "outputs": [],
   "source": []
  },
  {
   "cell_type": "code",
   "execution_count": null,
   "metadata": {},
   "outputs": [],
   "source": []
  },
  {
   "cell_type": "code",
   "execution_count": null,
   "metadata": {},
   "outputs": [],
   "source": []
  }
 ],
 "metadata": {
  "kernelspec": {
   "display_name": "Python 3",
   "language": "python",
   "name": "python3"
  },
  "language_info": {
   "codemirror_mode": {
    "name": "ipython",
    "version": 3
   },
   "file_extension": ".py",
   "mimetype": "text/x-python",
   "name": "python",
   "nbconvert_exporter": "python",
   "pygments_lexer": "ipython3",
   "version": "3.8.2"
  }
 },
 "nbformat": 4,
 "nbformat_minor": 4
}
